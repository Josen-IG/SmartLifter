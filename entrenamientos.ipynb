{
 "cells": [
  {
   "cell_type": "code",
   "execution_count": 3,
   "id": "30c17d51",
   "metadata": {},
   "outputs": [],
   "source": [
    "import pandas as pd\n",
    "import numpy as np\n",
    "import random"
   ]
  },
  {
   "cell_type": "code",
   "execution_count": 4,
   "id": "d7ae333a",
   "metadata": {},
   "outputs": [],
   "source": [
    "# Cargar los datasets limpios subidos recientemente\n",
    "gym = pd.read_csv(\"C:/Users/josen/Documents/MASTER/TFM/Datasets/gym.csv\")\n",
    "members = pd.read_csv(\"C:/Users/josen/Documents/MASTER/TFM/Datasets/members.csv\")\n"
   ]
  },
  {
   "cell_type": "code",
   "execution_count": 5,
   "id": "6b67b1ce",
   "metadata": {},
   "outputs": [],
   "source": [
    "# Añadir IDs para referencia\n",
    "members['user_id'] = members.index\n",
    "gym['exercise_id'] = gym.index"
   ]
  },
  {
   "cell_type": "code",
   "execution_count": 6,
   "id": "da44ecbd",
   "metadata": {},
   "outputs": [],
   "source": [
    "# Subconjuntos para emparejamiento\n",
    "members_expanded = members[['user_id', 'Type', 'Level']]\n",
    "gym_expanded = gym[['exercise_id', 'Type', 'Level']]"
   ]
  },
  {
   "cell_type": "code",
   "execution_count": 7,
   "id": "19a78aa3",
   "metadata": {},
   "outputs": [],
   "source": [
    "# Merge filtrado por coincidencia en Type y Level\n",
    "entrenamiento = members_expanded.merge(\n",
    "    gym_expanded,\n",
    "    on=['Type', 'Level'],\n",
    "    how='inner'\n",
    ")"
   ]
  },
  {
   "cell_type": "code",
   "execution_count": 8,
   "id": "762699d8",
   "metadata": {},
   "outputs": [
    {
     "data": {
      "text/plain": [
       "((292392, 21),\n",
       "    user_id  Type_x       Level_x  exercise_id  Age  Gender  Weight_kg  \\\n",
       " 0        2  Cardio  Intermediate          149   32  Female       68.1   \n",
       " 1        2  Cardio  Intermediate          349   32  Female       68.1   \n",
       " 2        2  Cardio  Intermediate          884   32  Female       68.1   \n",
       " \n",
       "    Height_m  Workout_time  Calories_Burned  ... Fat_Percentage  Frequency  \\\n",
       " 0      1.66          1.11            677.0  ...           33.4          4   \n",
       " 1      1.66          1.11            677.0  ...           33.4          4   \n",
       " 2      1.66          1.11            677.0  ...           33.4          4   \n",
       " \n",
       "         Level_y    BMI                  Title    Type    BodyPart   Equipment  \\\n",
       " 0  Intermediate  24.71            Roc Everest  Cardio  Abdominals       Other   \n",
       " 1  Intermediate  24.71  HM Running Man Crunch  Cardio  Abdominals  Bodyweight   \n",
       " 2  Intermediate  24.71         Agility Ladder  Cardio      Calves       Other   \n",
       " \n",
       "           Level BodyGroup  \n",
       " 0  Intermediate      Core  \n",
       " 1  Intermediate      Core  \n",
       " 2  Intermediate      Legs  \n",
       " \n",
       " [3 rows x 21 columns])"
      ]
     },
     "execution_count": 8,
     "metadata": {},
     "output_type": "execute_result"
    }
   ],
   "source": [
    "# Añadir características completas de usuario y ejercicio\n",
    "entrenamiento = entrenamiento.merge(members, on='user_id', how='left')\n",
    "entrenamiento = entrenamiento.merge(gym, on='exercise_id', how='left')\n",
    "\n",
    "# Mostrar tamaño y ejemplo\n",
    "entrenamiento.shape, entrenamiento.head(3)"
   ]
  },
  {
   "cell_type": "code",
   "execution_count": 9,
   "id": "5bc962ae",
   "metadata": {},
   "outputs": [],
   "source": [
    "# Guardar el dataset combinado\n",
    "entrenamiento.to_csv(\"C:/Users/josen/Documents/MASTER/TFM/SmartLifter.csv\", index=False)"
   ]
  },
  {
   "cell_type": "code",
   "execution_count": 10,
   "id": "9b31975c",
   "metadata": {},
   "outputs": [
    {
     "name": "stdout",
     "output_type": "stream",
     "text": [
      "Unique values in Type column:\n",
      "['Core' 'Legs' 'Upper Body' 'Back' 'Other']\n"
     ]
    }
   ],
   "source": [
    "print(\"Unique values in Type column:\")\n",
    "print(gym['BodyGroup'].unique())"
   ]
  }
 ],
 "metadata": {
  "kernelspec": {
   "display_name": ".venv",
   "language": "python",
   "name": "python3"
  },
  "language_info": {
   "codemirror_mode": {
    "name": "ipython",
    "version": 3
   },
   "file_extension": ".py",
   "mimetype": "text/x-python",
   "name": "python",
   "nbconvert_exporter": "python",
   "pygments_lexer": "ipython3",
   "version": "3.12.6"
  }
 },
 "nbformat": 4,
 "nbformat_minor": 5
}
