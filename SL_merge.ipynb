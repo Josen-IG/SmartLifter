{
 "cells": [
  {
   "cell_type": "code",
   "execution_count": 247,
   "id": "30c17d51",
   "metadata": {},
   "outputs": [],
   "source": [
    "import pandas as pd\n",
    "import numpy as np\n",
    "import random"
   ]
  },
  {
   "cell_type": "code",
   "execution_count": 248,
   "id": "d7ae333a",
   "metadata": {},
   "outputs": [],
   "source": [
    "# Cargar los datasets limpios subidos recientemente\n",
    "gym = pd.read_csv(\"C:/Users/josen/Documents/MASTER/TFM/Datasets/gym.csv\")\n",
    "members = pd.read_csv(\"C:/Users/josen/Documents/MASTER/TFM/Datasets/members.csv\")"
   ]
  },
  {
   "cell_type": "code",
   "execution_count": 249,
   "id": "8a541c3b",
   "metadata": {},
   "outputs": [
    {
     "data": {
      "text/html": [
       "<div>\n",
       "<style scoped>\n",
       "    .dataframe tbody tr th:only-of-type {\n",
       "        vertical-align: middle;\n",
       "    }\n",
       "\n",
       "    .dataframe tbody tr th {\n",
       "        vertical-align: top;\n",
       "    }\n",
       "\n",
       "    .dataframe thead th {\n",
       "        text-align: right;\n",
       "    }\n",
       "</style>\n",
       "<table border=\"1\" class=\"dataframe\">\n",
       "  <thead>\n",
       "    <tr style=\"text-align: right;\">\n",
       "      <th></th>\n",
       "      <th>Title</th>\n",
       "      <th>Type</th>\n",
       "      <th>BodyPart</th>\n",
       "      <th>Equipment</th>\n",
       "      <th>Level</th>\n",
       "      <th>BodyGroup</th>\n",
       "    </tr>\n",
       "  </thead>\n",
       "  <tbody>\n",
       "    <tr>\n",
       "      <th>0</th>\n",
       "      <td>Partner plank band row</td>\n",
       "      <td>Strength</td>\n",
       "      <td>Abdominals</td>\n",
       "      <td>Bands</td>\n",
       "      <td>Intermediate</td>\n",
       "      <td>Core</td>\n",
       "    </tr>\n",
       "    <tr>\n",
       "      <th>1</th>\n",
       "      <td>Banded crunch isometric hold</td>\n",
       "      <td>Strength</td>\n",
       "      <td>Abdominals</td>\n",
       "      <td>Bands</td>\n",
       "      <td>Intermediate</td>\n",
       "      <td>Core</td>\n",
       "    </tr>\n",
       "    <tr>\n",
       "      <th>2</th>\n",
       "      <td>FYR Banded Plank Jack</td>\n",
       "      <td>Strength</td>\n",
       "      <td>Abdominals</td>\n",
       "      <td>Bands</td>\n",
       "      <td>Intermediate</td>\n",
       "      <td>Core</td>\n",
       "    </tr>\n",
       "    <tr>\n",
       "      <th>3</th>\n",
       "      <td>Banded crunch</td>\n",
       "      <td>Strength</td>\n",
       "      <td>Abdominals</td>\n",
       "      <td>Bands</td>\n",
       "      <td>Intermediate</td>\n",
       "      <td>Core</td>\n",
       "    </tr>\n",
       "    <tr>\n",
       "      <th>4</th>\n",
       "      <td>Crunch</td>\n",
       "      <td>Strength</td>\n",
       "      <td>Abdominals</td>\n",
       "      <td>Bands</td>\n",
       "      <td>Intermediate</td>\n",
       "      <td>Core</td>\n",
       "    </tr>\n",
       "  </tbody>\n",
       "</table>\n",
       "</div>"
      ],
      "text/plain": [
       "                          Title      Type    BodyPart Equipment         Level  \\\n",
       "0        Partner plank band row  Strength  Abdominals     Bands  Intermediate   \n",
       "1  Banded crunch isometric hold  Strength  Abdominals     Bands  Intermediate   \n",
       "2         FYR Banded Plank Jack  Strength  Abdominals     Bands  Intermediate   \n",
       "3                 Banded crunch  Strength  Abdominals     Bands  Intermediate   \n",
       "4                        Crunch  Strength  Abdominals     Bands  Intermediate   \n",
       "\n",
       "  BodyGroup  \n",
       "0      Core  \n",
       "1      Core  \n",
       "2      Core  \n",
       "3      Core  \n",
       "4      Core  "
      ]
     },
     "execution_count": 249,
     "metadata": {},
     "output_type": "execute_result"
    }
   ],
   "source": [
    "gym.head()"
   ]
  },
  {
   "cell_type": "code",
   "execution_count": 250,
   "id": "a92a6712",
   "metadata": {},
   "outputs": [],
   "source": [
    "members['Level'] = members['Level'].replace('Expert', 'Advanced')\n",
    "gym['Level'] = gym['Level'].replace('Expert', 'Advanced')"
   ]
  },
  {
   "cell_type": "code",
   "execution_count": 251,
   "id": "1d318edf",
   "metadata": {},
   "outputs": [
    {
     "data": {
      "text/plain": [
       "array(['Intermediate', 'Beginner', 'Advanced'], dtype=object)"
      ]
     },
     "execution_count": 251,
     "metadata": {},
     "output_type": "execute_result"
    }
   ],
   "source": [
    "gym['Level'].unique()"
   ]
  },
  {
   "cell_type": "code",
   "execution_count": 252,
   "id": "69a17103",
   "metadata": {},
   "outputs": [
    {
     "data": {
      "text/plain": [
       "array(['Advanced', 'Intermediate', 'Beginner'], dtype=object)"
      ]
     },
     "execution_count": 252,
     "metadata": {},
     "output_type": "execute_result"
    }
   ],
   "source": [
    "members['Level'].unique()"
   ]
  },
  {
   "cell_type": "code",
   "execution_count": 253,
   "id": "bcadad78",
   "metadata": {},
   "outputs": [
    {
     "data": {
      "text/plain": [
       "array(['Abdominals', 'Adductors', 'Abductors', 'Biceps', 'Calves',\n",
       "       'Chest', 'Forearms', 'Glutes', 'Hamstrings', 'Lats', 'Lower Back',\n",
       "       'Middle Back', 'Traps', 'Neck', 'Quadriceps', 'Shoulders',\n",
       "       'Triceps'], dtype=object)"
      ]
     },
     "execution_count": 253,
     "metadata": {},
     "output_type": "execute_result"
    }
   ],
   "source": [
    "gym['BodyPart'].unique()"
   ]
  },
  {
   "cell_type": "code",
   "execution_count": 254,
   "id": "38cdc22e",
   "metadata": {},
   "outputs": [
    {
     "data": {
      "text/plain": [
       "array(['Core', 'Legs', 'Upper Body', 'Back', 'Other'], dtype=object)"
      ]
     },
     "execution_count": 254,
     "metadata": {},
     "output_type": "execute_result"
    }
   ],
   "source": [
    "gym[\"BodyGroup\"].unique()"
   ]
  },
  {
   "cell_type": "code",
   "execution_count": 255,
   "id": "12da3915",
   "metadata": {},
   "outputs": [
    {
     "data": {
      "text/plain": [
       "array(['Strength', 'Plyometrics', 'Cardio', 'Stretching', 'Powerlifting',\n",
       "       'Strongman', 'Olympic Weightlifting'], dtype=object)"
      ]
     },
     "execution_count": 255,
     "metadata": {},
     "output_type": "execute_result"
    }
   ],
   "source": [
    "gym['Type'].unique()"
   ]
  },
  {
   "cell_type": "code",
   "execution_count": 256,
   "id": "629a1a45",
   "metadata": {
    "vscode": {
     "languageId": "javascript"
    }
   },
   "outputs": [
    {
     "name": "stdout",
     "output_type": "stream",
     "text": [
      "                                               Title      Type    BodyPart  \\\n",
      "0                             Partner plank band row  Strength  Abdominals   \n",
      "1                       Banded crunch isometric hold  Strength  Abdominals   \n",
      "2                              FYR Banded Plank Jack  Strength  Abdominals   \n",
      "3                                      Banded crunch  Strength  Abdominals   \n",
      "4                                             Crunch  Strength  Abdominals   \n",
      "...                                              ...       ...         ...   \n",
      "2913                            EZ-bar skullcrusher-  Strength     Triceps   \n",
      "2914  Lying Close-Grip Barbell Triceps Press To Chin  Strength     Triceps   \n",
      "2915          EZ-Bar Skullcrusher - Gethin Variation  Strength     Triceps   \n",
      "2916                                TBS Skullcrusher  Strength     Triceps   \n",
      "2917                     30 Arms EZ-Bar Skullcrusher  Strength     Triceps   \n",
      "\n",
      "         Equipment         Level   BodyGroup  \n",
      "0            Bands  Intermediate        Core  \n",
      "1            Bands  Intermediate        Core  \n",
      "2            Bands  Intermediate        Core  \n",
      "3            Bands  Intermediate        Core  \n",
      "4            Bands  Intermediate        Core  \n",
      "...            ...           ...         ...  \n",
      "2913  E-Z Curl Bar  Intermediate  Upper Body  \n",
      "2914  E-Z Curl Bar      Beginner  Upper Body  \n",
      "2915  E-Z Curl Bar  Intermediate  Upper Body  \n",
      "2916  E-Z Curl Bar  Intermediate  Upper Body  \n",
      "2917  E-Z Curl Bar  Intermediate  Upper Body  \n",
      "\n",
      "[2918 rows x 6 columns]\n"
     ]
    }
   ],
   "source": [
    "gym.groupby(['BodyPart', 'BodyGroup', 'Type'])['Title'].apply(list).reset_index()\n",
    "print(gym)"
   ]
  },
  {
   "cell_type": "code",
   "execution_count": 257,
   "id": "a0faa432",
   "metadata": {},
   "outputs": [
    {
     "data": {
      "text/html": [
       "<div>\n",
       "<style scoped>\n",
       "    .dataframe tbody tr th:only-of-type {\n",
       "        vertical-align: middle;\n",
       "    }\n",
       "\n",
       "    .dataframe tbody tr th {\n",
       "        vertical-align: top;\n",
       "    }\n",
       "\n",
       "    .dataframe thead th {\n",
       "        text-align: right;\n",
       "    }\n",
       "</style>\n",
       "<table border=\"1\" class=\"dataframe\">\n",
       "  <thead>\n",
       "    <tr style=\"text-align: right;\">\n",
       "      <th></th>\n",
       "      <th>Age</th>\n",
       "      <th>Gender</th>\n",
       "      <th>Weight_kg</th>\n",
       "      <th>Height_m</th>\n",
       "      <th>Workout_time</th>\n",
       "      <th>Calories_Burned</th>\n",
       "      <th>Type</th>\n",
       "      <th>Fat_Percentage</th>\n",
       "      <th>Frequency</th>\n",
       "      <th>Level</th>\n",
       "      <th>BMI</th>\n",
       "    </tr>\n",
       "  </thead>\n",
       "  <tbody>\n",
       "    <tr>\n",
       "      <th>0</th>\n",
       "      <td>56</td>\n",
       "      <td>Male</td>\n",
       "      <td>88.3</td>\n",
       "      <td>1.71</td>\n",
       "      <td>1.69</td>\n",
       "      <td>1313.0</td>\n",
       "      <td>Yoga</td>\n",
       "      <td>12.6</td>\n",
       "      <td>4</td>\n",
       "      <td>Advanced</td>\n",
       "      <td>30.20</td>\n",
       "    </tr>\n",
       "    <tr>\n",
       "      <th>1</th>\n",
       "      <td>46</td>\n",
       "      <td>Female</td>\n",
       "      <td>74.9</td>\n",
       "      <td>1.53</td>\n",
       "      <td>1.30</td>\n",
       "      <td>883.0</td>\n",
       "      <td>HIIT</td>\n",
       "      <td>33.9</td>\n",
       "      <td>4</td>\n",
       "      <td>Intermediate</td>\n",
       "      <td>32.00</td>\n",
       "    </tr>\n",
       "    <tr>\n",
       "      <th>2</th>\n",
       "      <td>32</td>\n",
       "      <td>Female</td>\n",
       "      <td>68.1</td>\n",
       "      <td>1.66</td>\n",
       "      <td>1.11</td>\n",
       "      <td>677.0</td>\n",
       "      <td>Cardio</td>\n",
       "      <td>33.4</td>\n",
       "      <td>4</td>\n",
       "      <td>Intermediate</td>\n",
       "      <td>24.71</td>\n",
       "    </tr>\n",
       "    <tr>\n",
       "      <th>3</th>\n",
       "      <td>25</td>\n",
       "      <td>Male</td>\n",
       "      <td>53.2</td>\n",
       "      <td>1.70</td>\n",
       "      <td>0.59</td>\n",
       "      <td>532.0</td>\n",
       "      <td>Strength</td>\n",
       "      <td>28.8</td>\n",
       "      <td>3</td>\n",
       "      <td>Beginner</td>\n",
       "      <td>18.41</td>\n",
       "    </tr>\n",
       "    <tr>\n",
       "      <th>4</th>\n",
       "      <td>38</td>\n",
       "      <td>Male</td>\n",
       "      <td>46.1</td>\n",
       "      <td>1.79</td>\n",
       "      <td>0.64</td>\n",
       "      <td>556.0</td>\n",
       "      <td>Strength</td>\n",
       "      <td>29.2</td>\n",
       "      <td>3</td>\n",
       "      <td>Beginner</td>\n",
       "      <td>14.39</td>\n",
       "    </tr>\n",
       "  </tbody>\n",
       "</table>\n",
       "</div>"
      ],
      "text/plain": [
       "   Age  Gender  Weight_kg  Height_m  Workout_time  Calories_Burned      Type  \\\n",
       "0   56    Male       88.3      1.71          1.69           1313.0      Yoga   \n",
       "1   46  Female       74.9      1.53          1.30            883.0      HIIT   \n",
       "2   32  Female       68.1      1.66          1.11            677.0    Cardio   \n",
       "3   25    Male       53.2      1.70          0.59            532.0  Strength   \n",
       "4   38    Male       46.1      1.79          0.64            556.0  Strength   \n",
       "\n",
       "   Fat_Percentage  Frequency         Level    BMI  \n",
       "0            12.6          4      Advanced  30.20  \n",
       "1            33.9          4  Intermediate  32.00  \n",
       "2            33.4          4  Intermediate  24.71  \n",
       "3            28.8          3      Beginner  18.41  \n",
       "4            29.2          3      Beginner  14.39  "
      ]
     },
     "execution_count": 257,
     "metadata": {},
     "output_type": "execute_result"
    }
   ],
   "source": [
    "members.head()"
   ]
  },
  {
   "cell_type": "code",
   "execution_count": 258,
   "id": "cc07aa0d",
   "metadata": {},
   "outputs": [
    {
     "data": {
      "text/plain": [
       "array(['Yoga', 'HIIT', 'Cardio', 'Strength'], dtype=object)"
      ]
     },
     "execution_count": 258,
     "metadata": {},
     "output_type": "execute_result"
    }
   ],
   "source": [
    "members['Type'].unique()"
   ]
  },
  {
   "cell_type": "code",
   "execution_count": 259,
   "id": "8020caea",
   "metadata": {},
   "outputs": [
    {
     "name": "stdout",
     "output_type": "stream",
     "text": [
      "     Age  Gender  Weight_kg  Height_m  Workout_time  Calories_Burned  \\\n",
      "0     56    Male       88.3      1.71          1.69           1313.0   \n",
      "1     46  Female       74.9      1.53          1.30            883.0   \n",
      "2     32  Female       68.1      1.66          1.11            677.0   \n",
      "3     25    Male       53.2      1.70          0.59            532.0   \n",
      "4     38    Male       46.1      1.79          0.64            556.0   \n",
      "..   ...     ...        ...       ...           ...              ...   \n",
      "968   24    Male       87.1      1.74          1.57           1364.0   \n",
      "969   25    Male       66.6      1.61          1.38           1260.0   \n",
      "970   59  Female       60.4      1.76          1.72            929.0   \n",
      "971   32    Male      126.4      1.83          1.10            883.0   \n",
      "972   46    Male       88.7      1.63          0.75            542.0   \n",
      "\n",
      "         Type  Fat_Percentage  Frequency         Level    BMI  \n",
      "0        Yoga            12.6          4      Advanced  30.20  \n",
      "1        HIIT            33.9          4  Intermediate  32.00  \n",
      "2      Cardio            33.4          4  Intermediate  24.71  \n",
      "3    Strength            28.8          3      Beginner  18.41  \n",
      "4    Strength            29.2          3      Beginner  14.39  \n",
      "..        ...             ...        ...           ...    ...  \n",
      "968  Strength            10.0          4      Advanced  28.77  \n",
      "969  Strength            25.0          2      Beginner  25.69  \n",
      "970    Cardio            18.8          5      Advanced  19.50  \n",
      "971      HIIT            28.2          3  Intermediate  37.74  \n",
      "972  Strength            28.8          2      Beginner  33.38  \n",
      "\n",
      "[973 rows x 11 columns]\n"
     ]
    }
   ],
   "source": [
    "members.groupby(['Type', 'Level'])['Age'].apply(list).reset_index()\n",
    "print(members)"
   ]
  },
  {
   "cell_type": "code",
   "execution_count": 260,
   "id": "8b97088d",
   "metadata": {},
   "outputs": [],
   "source": [
    "type_map = {\n",
    "    'Yoga': 'Stretching',\n",
    "    'HIIT': 'Plyometrics',\n",
    "    'Cardio': 'Cardio',\n",
    "    'Strength': 'Strength'\n",
    "}\n",
    "\n",
    "members['Type_Mapped'] = members['Type'].map(type_map)\n",
    "gym['Type_Mapped'] = gym['Type'].map(type_map).fillna(gym['Type'])"
   ]
  },
  {
   "cell_type": "code",
   "execution_count": 261,
   "id": "6b67b1ce",
   "metadata": {},
   "outputs": [],
   "source": [
    "# Añadir IDs para referencia\n",
    "members['user_id'] = members.index\n",
    "gym['exercise_id'] = gym.index"
   ]
  },
  {
   "cell_type": "code",
   "execution_count": 262,
   "id": "da44ecbd",
   "metadata": {},
   "outputs": [],
   "source": [
    "# Subconjuntos para emparejamiento\n",
    "members_expanded = members[['user_id', 'Type', 'Level']]\n",
    "gym_expanded = gym[['exercise_id', 'Type', 'Level']]"
   ]
  },
  {
   "cell_type": "code",
   "execution_count": 263,
   "id": "19a78aa3",
   "metadata": {},
   "outputs": [],
   "source": [
    "# Merge filtrado por coincidencia en Type y Level\n",
    "entrenamiento = members_expanded.merge(\n",
    "    gym_expanded,\n",
    "    on=['Type', 'Level'],\n",
    "    how='inner'\n",
    ")"
   ]
  },
  {
   "cell_type": "code",
   "execution_count": 264,
   "id": "762699d8",
   "metadata": {},
   "outputs": [
    {
     "data": {
      "text/plain": [
       "((292842, 23),\n",
       "    user_id  Type_x       Level_x  exercise_id  Age  Gender  Weight_kg  \\\n",
       " 0        2  Cardio  Intermediate          149   32  Female       68.1   \n",
       " 1        2  Cardio  Intermediate          349   32  Female       68.1   \n",
       " 2        2  Cardio  Intermediate          884   32  Female       68.1   \n",
       " \n",
       "    Height_m  Workout_time  Calories_Burned  ...       Level_y    BMI  \\\n",
       " 0      1.66          1.11            677.0  ...  Intermediate  24.71   \n",
       " 1      1.66          1.11            677.0  ...  Intermediate  24.71   \n",
       " 2      1.66          1.11            677.0  ...  Intermediate  24.71   \n",
       " \n",
       "    Type_Mapped_x                  Title    Type    BodyPart   Equipment  \\\n",
       " 0         Cardio            Roc Everest  Cardio  Abdominals       Other   \n",
       " 1         Cardio  HM Running Man Crunch  Cardio  Abdominals  Bodyweight   \n",
       " 2         Cardio         Agility Ladder  Cardio      Calves       Other   \n",
       " \n",
       "           Level BodyGroup Type_Mapped_y  \n",
       " 0  Intermediate      Core        Cardio  \n",
       " 1  Intermediate      Core        Cardio  \n",
       " 2  Intermediate      Legs        Cardio  \n",
       " \n",
       " [3 rows x 23 columns])"
      ]
     },
     "execution_count": 264,
     "metadata": {},
     "output_type": "execute_result"
    }
   ],
   "source": [
    "# Añadir características completas de usuario y ejercicio\n",
    "entrenamiento = entrenamiento.merge(members, on='user_id', how='left')\n",
    "entrenamiento = entrenamiento.merge(gym, on='exercise_id', how='left')\n",
    "\n",
    "# Mostrar tamaño y ejemplo\n",
    "entrenamiento.shape, entrenamiento.head(3)"
   ]
  },
  {
   "cell_type": "code",
   "execution_count": 265,
   "id": "026c9400",
   "metadata": {},
   "outputs": [
    {
     "data": {
      "text/html": [
       "<div>\n",
       "<style scoped>\n",
       "    .dataframe tbody tr th:only-of-type {\n",
       "        vertical-align: middle;\n",
       "    }\n",
       "\n",
       "    .dataframe tbody tr th {\n",
       "        vertical-align: top;\n",
       "    }\n",
       "\n",
       "    .dataframe thead th {\n",
       "        text-align: right;\n",
       "    }\n",
       "</style>\n",
       "<table border=\"1\" class=\"dataframe\">\n",
       "  <thead>\n",
       "    <tr style=\"text-align: right;\">\n",
       "      <th></th>\n",
       "      <th>user_id</th>\n",
       "      <th>Type_x</th>\n",
       "      <th>Level_x</th>\n",
       "      <th>exercise_id</th>\n",
       "      <th>Age</th>\n",
       "      <th>Gender</th>\n",
       "      <th>Weight_kg</th>\n",
       "      <th>Height_m</th>\n",
       "      <th>Workout_time</th>\n",
       "      <th>Calories_Burned</th>\n",
       "      <th>...</th>\n",
       "      <th>Level_y</th>\n",
       "      <th>BMI</th>\n",
       "      <th>Type_Mapped_x</th>\n",
       "      <th>Title</th>\n",
       "      <th>Type</th>\n",
       "      <th>BodyPart</th>\n",
       "      <th>Equipment</th>\n",
       "      <th>Level</th>\n",
       "      <th>BodyGroup</th>\n",
       "      <th>Type_Mapped_y</th>\n",
       "    </tr>\n",
       "  </thead>\n",
       "  <tbody>\n",
       "    <tr>\n",
       "      <th>0</th>\n",
       "      <td>2</td>\n",
       "      <td>Cardio</td>\n",
       "      <td>Intermediate</td>\n",
       "      <td>149</td>\n",
       "      <td>32</td>\n",
       "      <td>Female</td>\n",
       "      <td>68.1</td>\n",
       "      <td>1.66</td>\n",
       "      <td>1.11</td>\n",
       "      <td>677.0</td>\n",
       "      <td>...</td>\n",
       "      <td>Intermediate</td>\n",
       "      <td>24.71</td>\n",
       "      <td>Cardio</td>\n",
       "      <td>Roc Everest</td>\n",
       "      <td>Cardio</td>\n",
       "      <td>Abdominals</td>\n",
       "      <td>Other</td>\n",
       "      <td>Intermediate</td>\n",
       "      <td>Core</td>\n",
       "      <td>Cardio</td>\n",
       "    </tr>\n",
       "    <tr>\n",
       "      <th>1</th>\n",
       "      <td>2</td>\n",
       "      <td>Cardio</td>\n",
       "      <td>Intermediate</td>\n",
       "      <td>349</td>\n",
       "      <td>32</td>\n",
       "      <td>Female</td>\n",
       "      <td>68.1</td>\n",
       "      <td>1.66</td>\n",
       "      <td>1.11</td>\n",
       "      <td>677.0</td>\n",
       "      <td>...</td>\n",
       "      <td>Intermediate</td>\n",
       "      <td>24.71</td>\n",
       "      <td>Cardio</td>\n",
       "      <td>HM Running Man Crunch</td>\n",
       "      <td>Cardio</td>\n",
       "      <td>Abdominals</td>\n",
       "      <td>Bodyweight</td>\n",
       "      <td>Intermediate</td>\n",
       "      <td>Core</td>\n",
       "      <td>Cardio</td>\n",
       "    </tr>\n",
       "    <tr>\n",
       "      <th>2</th>\n",
       "      <td>2</td>\n",
       "      <td>Cardio</td>\n",
       "      <td>Intermediate</td>\n",
       "      <td>884</td>\n",
       "      <td>32</td>\n",
       "      <td>Female</td>\n",
       "      <td>68.1</td>\n",
       "      <td>1.66</td>\n",
       "      <td>1.11</td>\n",
       "      <td>677.0</td>\n",
       "      <td>...</td>\n",
       "      <td>Intermediate</td>\n",
       "      <td>24.71</td>\n",
       "      <td>Cardio</td>\n",
       "      <td>Agility Ladder</td>\n",
       "      <td>Cardio</td>\n",
       "      <td>Calves</td>\n",
       "      <td>Other</td>\n",
       "      <td>Intermediate</td>\n",
       "      <td>Legs</td>\n",
       "      <td>Cardio</td>\n",
       "    </tr>\n",
       "    <tr>\n",
       "      <th>3</th>\n",
       "      <td>2</td>\n",
       "      <td>Cardio</td>\n",
       "      <td>Intermediate</td>\n",
       "      <td>993</td>\n",
       "      <td>32</td>\n",
       "      <td>Female</td>\n",
       "      <td>68.1</td>\n",
       "      <td>1.66</td>\n",
       "      <td>1.11</td>\n",
       "      <td>677.0</td>\n",
       "      <td>...</td>\n",
       "      <td>Intermediate</td>\n",
       "      <td>24.71</td>\n",
       "      <td>Cardio</td>\n",
       "      <td>Swimming</td>\n",
       "      <td>Cardio</td>\n",
       "      <td>Chest</td>\n",
       "      <td>Bodyweight</td>\n",
       "      <td>Intermediate</td>\n",
       "      <td>Upper Body</td>\n",
       "      <td>Cardio</td>\n",
       "    </tr>\n",
       "    <tr>\n",
       "      <th>4</th>\n",
       "      <td>2</td>\n",
       "      <td>Cardio</td>\n",
       "      <td>Intermediate</td>\n",
       "      <td>1729</td>\n",
       "      <td>32</td>\n",
       "      <td>Female</td>\n",
       "      <td>68.1</td>\n",
       "      <td>1.66</td>\n",
       "      <td>1.11</td>\n",
       "      <td>677.0</td>\n",
       "      <td>...</td>\n",
       "      <td>Intermediate</td>\n",
       "      <td>24.71</td>\n",
       "      <td>Cardio</td>\n",
       "      <td>Rower</td>\n",
       "      <td>Cardio</td>\n",
       "      <td>Middle Back</td>\n",
       "      <td>Machine</td>\n",
       "      <td>Intermediate</td>\n",
       "      <td>Back</td>\n",
       "      <td>Cardio</td>\n",
       "    </tr>\n",
       "  </tbody>\n",
       "</table>\n",
       "<p>5 rows × 23 columns</p>\n",
       "</div>"
      ],
      "text/plain": [
       "   user_id  Type_x       Level_x  exercise_id  Age  Gender  Weight_kg  \\\n",
       "0        2  Cardio  Intermediate          149   32  Female       68.1   \n",
       "1        2  Cardio  Intermediate          349   32  Female       68.1   \n",
       "2        2  Cardio  Intermediate          884   32  Female       68.1   \n",
       "3        2  Cardio  Intermediate          993   32  Female       68.1   \n",
       "4        2  Cardio  Intermediate         1729   32  Female       68.1   \n",
       "\n",
       "   Height_m  Workout_time  Calories_Burned  ...       Level_y    BMI  \\\n",
       "0      1.66          1.11            677.0  ...  Intermediate  24.71   \n",
       "1      1.66          1.11            677.0  ...  Intermediate  24.71   \n",
       "2      1.66          1.11            677.0  ...  Intermediate  24.71   \n",
       "3      1.66          1.11            677.0  ...  Intermediate  24.71   \n",
       "4      1.66          1.11            677.0  ...  Intermediate  24.71   \n",
       "\n",
       "   Type_Mapped_x                  Title    Type     BodyPart   Equipment  \\\n",
       "0         Cardio            Roc Everest  Cardio   Abdominals       Other   \n",
       "1         Cardio  HM Running Man Crunch  Cardio   Abdominals  Bodyweight   \n",
       "2         Cardio         Agility Ladder  Cardio       Calves       Other   \n",
       "3         Cardio               Swimming  Cardio        Chest  Bodyweight   \n",
       "4         Cardio                  Rower  Cardio  Middle Back     Machine   \n",
       "\n",
       "          Level   BodyGroup Type_Mapped_y  \n",
       "0  Intermediate        Core        Cardio  \n",
       "1  Intermediate        Core        Cardio  \n",
       "2  Intermediate        Legs        Cardio  \n",
       "3  Intermediate  Upper Body        Cardio  \n",
       "4  Intermediate        Back        Cardio  \n",
       "\n",
       "[5 rows x 23 columns]"
      ]
     },
     "execution_count": 265,
     "metadata": {},
     "output_type": "execute_result"
    }
   ],
   "source": [
    "entrenamiento.head()"
   ]
  },
  {
   "cell_type": "code",
   "execution_count": 266,
   "id": "dc339f24",
   "metadata": {},
   "outputs": [
    {
     "name": "stdout",
     "output_type": "stream",
     "text": [
      "Index(['user_id', 'Type_x', 'Level_x', 'exercise_id', 'Age', 'Gender',\n",
      "       'Weight_kg', 'Height_m', 'Workout_time', 'Calories_Burned', 'Type_y',\n",
      "       'Fat_Percentage', 'Frequency', 'Level_y', 'BMI', 'Type_Mapped_x',\n",
      "       'Title', 'Type', 'BodyPart', 'Equipment', 'Level', 'BodyGroup',\n",
      "       'Type_Mapped_y'],\n",
      "      dtype='object')\n"
     ]
    }
   ],
   "source": [
    "print(entrenamiento.columns)"
   ]
  },
  {
   "cell_type": "code",
   "execution_count": 267,
   "id": "24397c94",
   "metadata": {},
   "outputs": [
    {
     "name": "stdout",
     "output_type": "stream",
     "text": [
      "['Type_x', 'Level_x', 'Type_y', 'Level_y', 'Type_Mapped_x', 'Type', 'Level', 'Type_Mapped_y']\n"
     ]
    }
   ],
   "source": [
    "columnas_a_mostrar = [col for col in entrenamiento.columns if col.startswith('Type') or col.startswith('Level')]\n",
    "print(columnas_a_mostrar)"
   ]
  },
  {
   "cell_type": "code",
   "execution_count": 268,
   "id": "418de31c",
   "metadata": {},
   "outputs": [
    {
     "name": "stdout",
     "output_type": "stream",
     "text": [
      "<class 'pandas.core.frame.DataFrame'>\n",
      "RangeIndex: 292842 entries, 0 to 292841\n",
      "Data columns (total 18 columns):\n",
      " #   Column           Non-Null Count   Dtype  \n",
      "---  ------           --------------   -----  \n",
      " 0   user_id          292842 non-null  int64  \n",
      " 1   exercise_id      292842 non-null  int64  \n",
      " 2   Age              292842 non-null  int64  \n",
      " 3   Gender           292842 non-null  object \n",
      " 4   Weight_kg        292842 non-null  float64\n",
      " 5   Height_m         292842 non-null  float64\n",
      " 6   Workout_time     292842 non-null  float64\n",
      " 7   Calories_Burned  292842 non-null  float64\n",
      " 8   Fat_Percentage   292842 non-null  float64\n",
      " 9   Frequency        292842 non-null  int64  \n",
      " 10  BMI              292842 non-null  float64\n",
      " 11  Type_Mapped      292842 non-null  object \n",
      " 12  Title            292842 non-null  object \n",
      " 13  Type             292842 non-null  object \n",
      " 14  BodyPart         292842 non-null  object \n",
      " 15  Equipment        292842 non-null  object \n",
      " 16  Level            292842 non-null  object \n",
      " 17  BodyGroup        292842 non-null  object \n",
      "dtypes: float64(6), int64(4), object(8)\n",
      "memory usage: 40.2+ MB\n"
     ]
    }
   ],
   "source": [
    "columnas_a_mantener = ['user_id', 'exercise_id', 'Age', 'Gender',\n",
    "       'Weight_kg', 'Height_m', 'Workout_time', 'Calories_Burned',\n",
    "       'Fat_Percentage', 'Frequency',  'BMI', 'Type_Mapped_x',\n",
    "       'Title', 'Type', 'BodyPart', 'Equipment', 'Level', 'BodyGroup',\n",
    "       ]\n",
    "\n",
    "entrenamiento = entrenamiento[columnas_a_mantener]\n",
    "entrenamiento.rename(columns={'Type_Mapped_x': 'Type_Mapped'}, inplace=True)\n",
    "entrenamiento.info()"
   ]
  },
  {
   "cell_type": "code",
   "execution_count": 269,
   "id": "5bc962ae",
   "metadata": {},
   "outputs": [],
   "source": [
    "# Guardar el dataset combinado\n",
    "entrenamiento.to_csv(\"C:/Users/josen/Documents/MASTER/TFM/SmartLifter.csv\", index=False)"
   ]
  }
 ],
 "metadata": {
  "kernelspec": {
   "display_name": ".venv",
   "language": "python",
   "name": "python3"
  },
  "language_info": {
   "codemirror_mode": {
    "name": "ipython",
    "version": 3
   },
   "file_extension": ".py",
   "mimetype": "text/x-python",
   "name": "python",
   "nbconvert_exporter": "python",
   "pygments_lexer": "ipython3",
   "version": "3.12.6"
  }
 },
 "nbformat": 4,
 "nbformat_minor": 5
}
